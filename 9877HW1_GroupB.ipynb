{
 "cells": [
  {
   "cell_type": "markdown",
   "metadata": {},
   "source": [
    "### MTH-9877: Interest Rate and Credit Models\n",
    "\n",
    "#### Homework Assignment #1\n",
    "\n",
    "#### Group B\n",
    "- Ferreira,Jose\n",
    "- Liu,Yuxin\n",
    "- Li,Zhuofan\n",
    "- Zheng,Hantian"
   ]
  },
  {
   "cell_type": "markdown",
   "metadata": {},
   "source": [
    "1. (Programming project.) A very simple interest rate fitting framework, popular among economists (including the US Treasury Department) and some buy side firms is the Nelson-Siegel model. We consider the (currently observed) instantaneous forward rate $f_0(s)$, which in the following will be denoted by $y(s)$. In the NS model, $y(s)$ is assumed to have a parametric form given by:\n",
    "\\begin{align}\n",
    "y(s) = \\beta_0 + \\beta_1 e^{-\\lambda s} + \\beta_2 \\lambda s e^{-\\lambda s}\n",
    "\\end{align}\n",
    "where $\\beta_0 ,\\beta_1 , \\beta_2 \\in \\mathbb{R}$ and $\\lambda > 0$ are the model parameters.  \n",
    "The zero coupon rate $Y(T)$ for maturity $T$ corresponding to the instantaneous forward rate $y(s)$ is given by\n",
    "\\begin{align}\n",
    "    Y(T) = \\frac{1}{T} \\int_0^T y(s) ds. \n",
    "\\end{align}  \n",
    "(i) Show that\n",
    "\n",
    "\\begin{align}\n",
    "    Y(T) = \\beta_0 + \\beta_1 \\frac{1-e^{-\\lambda T}}{\\lambda T} + \\beta_2 \\left( \\frac{1-e^{-\\lambda T}}{\\lambda T} - e^{-\\lambda T} \\right) \\\\\n",
    "\\end{align}  "
   ]
  },
  {
   "cell_type": "markdown",
   "metadata": {},
   "source": [
    "\\begin{align}\n",
    "Y(T) &= \\frac{1}{T} \\int_0^T y(s) ds\\\\\n",
    "&= \\frac{1}{T} \\int_0^T \\left( \\beta_0 + \\beta_1 e^{-\\lambda s} + \\beta_2 \\lambda s e^{-\\lambda s} \\right) ds\\\\\n",
    "&= \\frac{1}{T} \\left( \\beta_0 s \\bigg\\rvert_{s=0}^{s=T} - \\beta_1 \\frac{e^{-\\lambda s}}{\\lambda} \\bigg\\rvert_{s=0}^{s=T} - \\beta_2 \\frac{e^{-\\lambda s} (\\lambda s + 1)}{\\lambda}\\bigg\\rvert_{s=0}^{s=T}    \\right) ds\\\\\n",
    "&= \\frac{1}{T} \\left( \\beta_0 T - \\beta_1 \\left( \\frac{e^{-\\lambda T}}{\\lambda} - \\frac{1}{\\lambda} \\right)  - \\beta_2 \\left( \\frac{e^{-\\lambda T} (\\lambda T + 1)}{\\lambda} - \\frac{1}{\\lambda} \\right)  \\right)\\\\\n",
    "&= \\beta_0 + \\beta_1 \\left( \\frac{1-e^{-\\lambda T}}{\\lambda T} \\right) + \\beta_2 \\left( \\frac{1-e^{-\\lambda T}}{\\lambda T} - e^{-\\lambda T} \\right)\n",
    "\\end{align}"
   ]
  },
  {
   "cell_type": "code",
   "execution_count": null,
   "metadata": {},
   "outputs": [],
   "source": []
  }
 ],
 "metadata": {
  "kernelspec": {
   "display_name": "Python 3",
   "language": "python",
   "name": "python3"
  },
  "language_info": {
   "codemirror_mode": {
    "name": "ipython",
    "version": 3
   },
   "file_extension": ".py",
   "mimetype": "text/x-python",
   "name": "python",
   "nbconvert_exporter": "python",
   "pygments_lexer": "ipython3",
   "version": "3.7.3"
  }
 },
 "nbformat": 4,
 "nbformat_minor": 2
}
